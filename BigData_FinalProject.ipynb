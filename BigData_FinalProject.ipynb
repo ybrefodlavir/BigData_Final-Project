{
  "nbformat": 4,
  "nbformat_minor": 0,
  "metadata": {
    "colab": {
      "name": "Untitled0.ipynb",
      "provenance": [],
      "authorship_tag": "ABX9TyMX3AhVg79UiIIlQ0rLtq+F",
      "include_colab_link": true
    },
    "kernelspec": {
      "name": "python3",
      "display_name": "Python 3"
    },
    "language_info": {
      "name": "python"
    }
  },
  "cells": [
    {
      "cell_type": "markdown",
      "metadata": {
        "id": "view-in-github",
        "colab_type": "text"
      },
      "source": [
        "<a href=\"https://colab.research.google.com/github/ybrefodlavir/BigData_Final-Project/blob/main/BigData_FinalProject.ipynb\" target=\"_parent\"><img src=\"https://colab.research.google.com/assets/colab-badge.svg\" alt=\"Open In Colab\"/></a>"
      ]
    },
    {
      "cell_type": "markdown",
      "source": [
        "Java Installation"
      ],
      "metadata": {
        "id": "y2XrCJC07xEs"
      }
    },
    {
      "cell_type": "code",
      "execution_count": null,
      "metadata": {
        "id": "7cSXetkseJA9"
      },
      "outputs": [],
      "source": [
        "!apt-get install openjdk-8-jdk-headless -qq > /dev/null"
      ]
    },
    {
      "cell_type": "markdown",
      "source": [
        "Apache Spark Installation"
      ],
      "metadata": {
        "id": "gq9As0KC741B"
      }
    },
    {
      "cell_type": "code",
      "source": [
        "!wget -q https://dlcdn.apache.org/spark/spark-3.2.1/spark-3.2.1-bin-hadoop3.2.tgz\n",
        "!tar xf spark-3.2.1-bin-hadoop3.2.tgz"
      ],
      "metadata": {
        "id": "7DJbB-xJekUi"
      },
      "execution_count": null,
      "outputs": []
    },
    {
      "cell_type": "markdown",
      "source": [
        "Setting Up Java and Spark Home"
      ],
      "metadata": {
        "id": "qkGPUaAF8KL-"
      }
    },
    {
      "cell_type": "code",
      "source": [
        "import os\n",
        "os.environ[\"JAVA_HOME\"] = \"/usr/lib/jvm/java-8-openjdk-amd64\"\n",
        "os.environ[\"SPARK_HOME\"] = \"/content/spark-3.2.1-bin-hadoop3.2\""
      ],
      "metadata": {
        "id": "gDg3k2gHfugx"
      },
      "execution_count": null,
      "outputs": []
    },
    {
      "cell_type": "markdown",
      "source": [
        "PySpark Configuration"
      ],
      "metadata": {
        "id": "ldAOOtN08UvP"
      }
    },
    {
      "cell_type": "code",
      "source": [
        "!pip install -q findspark"
      ],
      "metadata": {
        "id": "rAatxcITgHMj"
      },
      "execution_count": null,
      "outputs": []
    },
    {
      "cell_type": "markdown",
      "source": [
        "Importing library and make findspark Inizialitation"
      ],
      "metadata": {
        "id": "iVdWfREs8d5_"
      }
    },
    {
      "cell_type": "code",
      "source": [
        "import findspark\n",
        "findspark.init()"
      ],
      "metadata": {
        "id": "ZTjZS6rSgLQT"
      },
      "execution_count": null,
      "outputs": []
    },
    {
      "cell_type": "markdown",
      "source": [
        "Make connection to spark"
      ],
      "metadata": {
        "id": "Rb_mdgYR8un-"
      }
    },
    {
      "cell_type": "code",
      "source": [
        "from pyspark.sql import SparkSession\n",
        "spark = SparkSession.builder\\\n",
        " .master(\"local\")\\\n",
        " .appName(\"Colab\")\\\n",
        " .config('spark.ui.port', '4050')\\\n",
        " .getOrCreate()"
      ],
      "metadata": {
        "id": "WVbsehhCgOg7"
      },
      "execution_count": null,
      "outputs": []
    },
    {
      "cell_type": "markdown",
      "source": [
        "Importing data to pySpark"
      ],
      "metadata": {
        "id": "ykDZdkRu9CHg"
      }
    },
    {
      "cell_type": "code",
      "source": [
        "df = spark.read.format(\"csv\").option(\"header\",\"True\").load(\"/content/2019.csv\")"
      ],
      "metadata": {
        "id": "H5xXvSi1gR-p"
      },
      "execution_count": null,
      "outputs": []
    },
    {
      "cell_type": "markdown",
      "source": [
        "Analyze the schema"
      ],
      "metadata": {
        "id": "G17pVNf69IEa"
      }
    },
    {
      "cell_type": "code",
      "source": [
        "df.printSchema()"
      ],
      "metadata": {
        "colab": {
          "base_uri": "https://localhost:8080/"
        },
        "id": "pgU31S4xhLwK",
        "outputId": "f9a95749-4502-4b9c-9f43-2f25642e5ac7"
      },
      "execution_count": null,
      "outputs": [
        {
          "output_type": "stream",
          "name": "stdout",
          "text": [
            "root\n",
            " |-- Overall rank: string (nullable = true)\n",
            " |-- Country or region: string (nullable = true)\n",
            " |-- Score: string (nullable = true)\n",
            " |-- GDP per capita: string (nullable = true)\n",
            " |-- Social support: string (nullable = true)\n",
            " |-- Healthy life expectancy: string (nullable = true)\n",
            " |-- Freedom to make life choices: string (nullable = true)\n",
            " |-- Generosity: string (nullable = true)\n",
            " |-- Perceptions of corruption: string (nullable = true)\n",
            "\n"
          ]
        }
      ]
    },
    {
      "cell_type": "markdown",
      "source": [
        "Show 10 data"
      ],
      "metadata": {
        "id": "u4Y4jjnA9WTP"
      }
    },
    {
      "cell_type": "code",
      "source": [
        "df.show(10,False)"
      ],
      "metadata": {
        "colab": {
          "base_uri": "https://localhost:8080/"
        },
        "id": "QY9A9NIVhTFQ",
        "outputId": "cb793727-886d-4516-ae27-c5026ba47891"
      },
      "execution_count": null,
      "outputs": [
        {
          "output_type": "stream",
          "name": "stdout",
          "text": [
            "+------------+-----------------+-----+--------------+--------------+-----------------------+----------------------------+----------+-------------------------+\n",
            "|Overall rank|Country or region|Score|GDP per capita|Social support|Healthy life expectancy|Freedom to make life choices|Generosity|Perceptions of corruption|\n",
            "+------------+-----------------+-----+--------------+--------------+-----------------------+----------------------------+----------+-------------------------+\n",
            "|1           |Finland          |7.769|1.340         |1.587         |0.986                  |0.596                       |0.153     |0.393                    |\n",
            "|2           |Denmark          |7.600|1.383         |1.573         |0.996                  |0.592                       |0.252     |0.410                    |\n",
            "|3           |Norway           |7.554|1.488         |1.582         |1.028                  |0.603                       |0.271     |0.341                    |\n",
            "|4           |Iceland          |7.494|1.380         |1.624         |1.026                  |0.591                       |0.354     |0.118                    |\n",
            "|5           |Netherlands      |7.488|1.396         |1.522         |0.999                  |0.557                       |0.322     |0.298                    |\n",
            "|6           |Switzerland      |7.480|1.452         |1.526         |1.052                  |0.572                       |0.263     |0.343                    |\n",
            "|7           |Sweden           |7.343|1.387         |1.487         |1.009                  |0.574                       |0.267     |0.373                    |\n",
            "|8           |New Zealand      |7.307|1.303         |1.557         |1.026                  |0.585                       |0.330     |0.380                    |\n",
            "|9           |Canada           |7.278|1.365         |1.505         |1.039                  |0.584                       |0.285     |0.308                    |\n",
            "|10          |Austria          |7.246|1.376         |1.475         |1.016                  |0.532                       |0.244     |0.226                    |\n",
            "+------------+-----------------+-----+--------------+--------------+-----------------------+----------------------------+----------+-------------------------+\n",
            "only showing top 10 rows\n",
            "\n"
          ]
        }
      ]
    },
    {
      "cell_type": "markdown",
      "source": [
        "Counting how much data that appears"
      ],
      "metadata": {
        "id": "haPycbDJ9cqT"
      }
    },
    {
      "cell_type": "code",
      "source": [
        "df.count()"
      ],
      "metadata": {
        "colab": {
          "base_uri": "https://localhost:8080/"
        },
        "id": "LEIg_4johX-D",
        "outputId": "a78c4a2b-7caf-453c-e36b-72c79ae038c9"
      },
      "execution_count": null,
      "outputs": [
        {
          "output_type": "execute_result",
          "data": {
            "text/plain": [
              "156"
            ]
          },
          "metadata": {},
          "execution_count": 14
        }
      ]
    },
    {
      "cell_type": "markdown",
      "source": [
        "Show 5 data with 3 fields"
      ],
      "metadata": {
        "id": "GE5vGpVf9itP"
      }
    },
    {
      "cell_type": "code",
      "source": [
        "df.select(\"Country or Region\", \"Score\", \"Social Support\").show(5)"
      ],
      "metadata": {
        "colab": {
          "base_uri": "https://localhost:8080/"
        },
        "id": "vl8ibsIHi9Zl",
        "outputId": "ad7f2398-59bc-4b33-d4e5-b18536533fab"
      },
      "execution_count": null,
      "outputs": [
        {
          "output_type": "stream",
          "name": "stdout",
          "text": [
            "+-----------------+-----+--------------+\n",
            "|Country or Region|Score|Social Support|\n",
            "+-----------------+-----+--------------+\n",
            "|          Finland|7.769|         1.587|\n",
            "|          Denmark|7.600|         1.573|\n",
            "|           Norway|7.554|         1.582|\n",
            "|          Iceland|7.494|         1.624|\n",
            "|      Netherlands|7.488|         1.522|\n",
            "+-----------------+-----+--------------+\n",
            "only showing top 5 rows\n",
            "\n"
          ]
        }
      ]
    },
    {
      "cell_type": "markdown",
      "source": [
        "Importing col function"
      ],
      "metadata": {
        "id": "WSm7plap9ryx"
      }
    },
    {
      "cell_type": "code",
      "source": [
        "from pyspark.sql.functions import col "
      ],
      "metadata": {
        "id": "JPjH6TMaleN0"
      },
      "execution_count": null,
      "outputs": []
    },
    {
      "cell_type": "markdown",
      "source": [
        "Show 10 data with the most GDP per capita"
      ],
      "metadata": {
        "id": "URvUZ-Rd9weu"
      }
    },
    {
      "cell_type": "code",
      "source": [
        "df.select(\"Country or Region\", \"GDP per capita\").sort(col(\"GDP per capita\").desc()).show(10,False)"
      ],
      "metadata": {
        "colab": {
          "base_uri": "https://localhost:8080/"
        },
        "id": "evuIqtTWjOO8",
        "outputId": "9ded8f07-89d3-40d4-de1f-b8644e58f5dd"
      },
      "execution_count": null,
      "outputs": [
        {
          "output_type": "stream",
          "name": "stdout",
          "text": [
            "+--------------------+--------------+\n",
            "|Country or Region   |GDP per capita|\n",
            "+--------------------+--------------+\n",
            "|Qatar               |1.684         |\n",
            "|Luxembourg          |1.609         |\n",
            "|Singapore           |1.572         |\n",
            "|United Arab Emirates|1.503         |\n",
            "|Kuwait              |1.500         |\n",
            "|Ireland             |1.499         |\n",
            "|Norway              |1.488         |\n",
            "|Switzerland         |1.452         |\n",
            "|Hong Kong           |1.438         |\n",
            "|United States       |1.433         |\n",
            "+--------------------+--------------+\n",
            "only showing top 10 rows\n",
            "\n"
          ]
        }
      ]
    },
    {
      "cell_type": "code",
      "source": [
        ""
      ],
      "metadata": {
        "id": "TA_Oed_FkOr9"
      },
      "execution_count": null,
      "outputs": []
    }
  ]
}